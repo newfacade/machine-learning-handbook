{
 "cells": [
  {
   "cell_type": "markdown",
   "metadata": {},
   "source": [
    "# Kernel SVM\n",
    "\n",
    "```{note}\n",
    "Intuition: Transforming the original space to the feature space, solve the problem in the feature space.<br/>\n",
    "For SVM, we can use the kernel trick.\n",
    "```\n",
    "\n",
    "Recall the Linear SVM in the original space:\n",
    "\n",
    "$$\n",
    "\\begin{equation}\n",
    "\\begin{split}\n",
    "\\underset{\\alpha}{\\max}\\ &\\sum_{i=1}^{n}\\alpha_{i} - \\sum_{i,j=1}^{n}y^{(i)}y^{(j)}\\alpha_{i}\\alpha_{j}\\left \\langle x^{(i)},x^{(j)} \\right \\rangle \\\\\n",
    "\\mbox{s.t.}\\ &0 \\le \\alpha_{i}\\le{C},\\ i=1,...,n \\\\\n",
    "&\\sum_{i=1}^{n}\\alpha_{i}y^{(i)}=0\n",
    "\\end{split}\n",
    "\\end{equation}\n",
    "$$\n",
    "\n",
    "Let $\\phi : \\mathbb{R}^{d} \\to \\mathbb{R}^{p}$ be a feature map, $\\left \\langle x^{(i)},x^{(j)} \\right \\rangle$ change to $\\left \\langle \\phi(x^{(i)}),\\phi(x^{(j)}) \\right \\rangle$, so SVM in the feature space:\n",
    "\n",
    "$$\n",
    "\\begin{equation}\n",
    "\\begin{split}\n",
    "\\underset{\\alpha}{\\max}\\ &\\sum_{i=1}^{n}\\alpha_{i} - \\sum_{i,j=1}^{n}y^{(i)}y^{(j)}\\alpha_{i}\\alpha_{j}\\left \\langle \\phi(x^{(i)}),\\phi(x^{(j)}) \\right \\rangle \\\\\n",
    "\\mbox{s.t.}\\ &0 \\le \\alpha_{i}\\le{C},\\ i=1,...,n \\\\\n",
    "&\\sum_{i=1}^{n}\\alpha_{i}y^{(i)}=0\n",
    "\\end{split}\n",
    "\\end{equation}\n",
    "$$\n",
    "\n",
    "We only need to know kernel of the feature space $K(x, z) = \\left \\langle \\phi(x),\\phi(z) \\right \\rangle$ with out knowing the form of $\\phi$.\n",
    "\n",
    "When predicting:\n",
    "\n",
    "$$w^{T}\\phi(x) + b = \\left ( \\sum_{i=1}^{n}\\alpha_{i}y^{(i)}\\phi(x^{(i)})\\right )^{T}x + b = \\sum_{i=1}^{n}\\alpha_{i}y^{(i)}\\left \\langle \\phi(x^{(i)}),\\phi(x) \\right \\rangle + b$$"
   ]
  },
  {
   "cell_type": "markdown",
   "metadata": {},
   "source": [
    "## Kernels\n",
    "\n",
    "Theorem(mercer): let $ K: \\mathbb{R}^{d} \\times \\mathbb{R}^{d} \\mapsto \\mathbb{R}$. then for K be a valid kernel, it is necessary and sufficient that for any $\\left \\{ x^{(1)},...,x^{(n)} \\right \\} $, the corresponding kernel matrix is symmetric positive semi-definite.\n",
    "\n",
    "Linear kernel:\n",
    "\n",
    "$$K(x, z) = x^{T}z$$\n",
    "\n",
    "Polynomial kernel:\n",
    "\n",
    "$$K(x, z) = (\\gamma{x^{T}}z + r)^{k}$$\n",
    "\n",
    "Gaussian RBF(Radial Basis Function):\n",
    "\n",
    "$$K(x, z) = \\exp(-\\gamma\\left \\| x - z \\right \\|^{2} )$$"
   ]
  },
  {
   "cell_type": "markdown",
   "metadata": {},
   "source": [
    "## Examples"
   ]
  },
  {
   "cell_type": "code",
   "execution_count": 1,
   "metadata": {},
   "outputs": [],
   "source": [
    "import numpy as np\n",
    "\n",
    "X = np.array([[-1, -1], [-2, -1], [1, 1], [2, 1]])\n",
    "y = np.array([1, 1, 2, 2])"
   ]
  },
  {
   "cell_type": "code",
   "execution_count": 2,
   "metadata": {},
   "outputs": [
    {
     "data": {
      "text/plain": [
       "Pipeline(steps=[('standardscaler', StandardScaler()),\n",
       "                ('svc', SVC(gamma='auto'))])"
      ]
     },
     "execution_count": 2,
     "metadata": {},
     "output_type": "execute_result"
    }
   ],
   "source": [
    "from sklearn.svm import SVC\n",
    "from sklearn.pipeline import make_pipeline\n",
    "from sklearn.preprocessing import StandardScaler\n",
    "\n",
    "clf = make_pipeline(StandardScaler(), SVC(kernel='rbf', gamma='auto'))\n",
    "clf.fit(X, y)"
   ]
  },
  {
   "cell_type": "code",
   "execution_count": 3,
   "metadata": {},
   "outputs": [
    {
     "data": {
      "text/plain": [
       "array([1])"
      ]
     },
     "execution_count": 3,
     "metadata": {},
     "output_type": "execute_result"
    }
   ],
   "source": [
    "clf.predict([[-0.8, -1]])"
   ]
  },
  {
   "cell_type": "code",
   "execution_count": null,
   "metadata": {},
   "outputs": [],
   "source": []
  }
 ],
 "metadata": {
  "kernelspec": {
   "display_name": "Python 3",
   "language": "python",
   "name": "python3"
  },
  "language_info": {
   "codemirror_mode": {
    "name": "ipython",
    "version": 3
   },
   "file_extension": ".py",
   "mimetype": "text/x-python",
   "name": "python",
   "nbconvert_exporter": "python",
   "pygments_lexer": "ipython3",
   "version": "3.8.3"
  }
 },
 "nbformat": 4,
 "nbformat_minor": 4
}
