{
 "cells": [
  {
   "cell_type": "markdown",
   "metadata": {},
   "source": [
    "# GBDT\n",
    "\n",
    "Suppose a regression problem, the objective function:\n",
    "\n",
    "$$\\mbox{obj} = \\sum_{i=1}^{n}l(y_{i}, \\hat{y}_{i})$$\n",
    "\n",
    "Besides fitting the residual directly like boosting tree, we can fit the negative gradient to descent."
   ]
  },
  {
   "cell_type": "markdown",
   "metadata": {},
   "source": [
    "## Algorithm\n",
    "\n",
    "GBDT for regression:\n",
    "\n",
    "1. compute each instance's gradient:\n",
    "\n",
    "$$r_{mi} = -\\left[\\frac{\\partial{L(y_{i}, f(x_{i}))}}{\\partial f(x_{i})}\\right]_{f = f_{m-1}}$$\n",
    "\n",
    "2. generate a tree that fits $r_{mi}$, denote it's leaf nodes area as $R_{mj}, j=1,...,J$.\n",
    "\n",
    "3. minimize loss inside each $R_{mj}$:\n",
    "\n",
    "$$c_{mj} = \\underset{c}{\\mbox{argmin}}\\sum_{x_{i}\\in{R_{mj}}}L(y_{i}, f_{m-1}(x_{i}) + c)$$\n",
    "\n",
    "4. update $f_{m}(x) = f_{m-1}(x) + \\sum_{j=1}^{J}c_{mj}I(x \\in R_{mj})$."
   ]
  },
  {
   "cell_type": "markdown",
   "metadata": {},
   "source": [
    "## Examples"
   ]
  },
  {
   "cell_type": "code",
   "execution_count": 1,
   "metadata": {},
   "outputs": [],
   "source": [
    "import  numpy as np\n",
    "\n",
    "np.random.seed(42)\n",
    "X = np.random.rand(100, 1) - 0.5\n",
    "y = 3 * X[:, 0] ** 2 + 0.05 * np.random.randn(100)"
   ]
  },
  {
   "cell_type": "code",
   "execution_count": 2,
   "metadata": {},
   "outputs": [
    {
     "data": {
      "text/plain": [
       "GradientBoostingRegressor(learning_rate=1.0, max_depth=2, n_estimators=3,\n",
       "                          random_state=42)"
      ]
     },
     "execution_count": 2,
     "metadata": {},
     "output_type": "execute_result"
    }
   ],
   "source": [
    "from sklearn.ensemble import GradientBoostingRegressor\n",
    "\n",
    "gbrt = GradientBoostingRegressor(max_depth=2, \n",
    "                                 n_estimators=3, \n",
    "                                 learning_rate=1.0, \n",
    "                                 random_state=42)\n",
    "gbrt.fit(X, y)"
   ]
  }
 ],
 "metadata": {
  "kernelspec": {
   "display_name": "Python 3",
   "language": "python",
   "name": "python3"
  },
  "language_info": {
   "codemirror_mode": {
    "name": "ipython",
    "version": 3
   },
   "file_extension": ".py",
   "mimetype": "text/x-python",
   "name": "python",
   "nbconvert_exporter": "python",
   "pygments_lexer": "ipython3",
   "version": "3.8.3"
  }
 },
 "nbformat": 4,
 "nbformat_minor": 4
}
