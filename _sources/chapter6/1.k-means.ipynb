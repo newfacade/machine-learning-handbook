{
 "cells": [
  {
   "cell_type": "markdown",
   "metadata": {},
   "source": [
    "# K-Means\n",
    "\n",
    "```{note}\n",
    "K-Means iterative update cluster centroids and instances label.<br/>\n",
    "K-Means is convergent.<br/>\n",
    "We can use inertia to select the number of clusters.<br/>\n",
    "We can use mini-batch K-means to enable clustering huge datasets.\n",
    "```"
   ]
  },
  {
   "cell_type": "markdown",
   "metadata": {},
   "source": [
    "## Algorithm\n",
    "\n",
    "1. The K-Means algorithm start by randomly choose k instances as k centroids.<br/>\n",
    "2. Then label the instances by assigning each of them to the cluster whose centroid is closest.<br/>\n",
    "3. Then update the centroids by computing the mean of the instances for each cluster.<br/>\n",
    "4. Repeat the previous two steps until the centroids stops moving.\n",
    "\n",
    "```{image} ../images/kmeans.png\n",
    ":alt: kmeans\n",
    ":width: 500px\n",
    ":align: center\n",
    "```"
   ]
  },
  {
   "cell_type": "markdown",
   "metadata": {},
   "source": [
    "## Convergence\n",
    "\n",
    "Define the distortion function:\n",
    "\n",
    "$$J(c, \\mu) = \\sum_{i=1}^{n}\\left \\| x^{(i)} - \\mu_{c^{(i)}} \\right \\|^{2} $$\n",
    "\n",
    "K-Means is exactly coordinate descent on $J$.\n",
    "\n",
    "label instance step minimize $J(c, \\mu)$ while keeping the centroids fixed.\n",
    "\n",
    "update centroids step minimize $J(c, \\mu)$ while keeping the cluster fixed.\n",
    "\n",
    "$J(c, \\mu)$ monotony decrease with lower bound, thus convergence."
   ]
  },
  {
   "cell_type": "markdown",
   "metadata": {},
   "source": [
    "## Examples"
   ]
  },
  {
   "cell_type": "code",
   "execution_count": 1,
   "metadata": {},
   "outputs": [
    {
     "data": {
      "text/plain": [
       "array([1, 1, 1, 0, 0, 0], dtype=int32)"
      ]
     },
     "execution_count": 1,
     "metadata": {},
     "output_type": "execute_result"
    }
   ],
   "source": [
    "from sklearn.cluster import KMeans\n",
    "import numpy as np\n",
    "\n",
    "X = np.array([[1, 2], [1, 4], [1, 0],\n",
    "              [10, 2], [10, 4], [10, 0]])\n",
    "# k need to specified\n",
    "kmeans = KMeans(n_clusters=2, random_state=0).fit(X)\n",
    "kmeans.labels_"
   ]
  },
  {
   "cell_type": "code",
   "execution_count": 2,
   "metadata": {},
   "outputs": [
    {
     "data": {
      "text/plain": [
       "array([[10.,  2.],\n",
       "       [ 1.,  2.]])"
      ]
     },
     "execution_count": 2,
     "metadata": {},
     "output_type": "execute_result"
    }
   ],
   "source": [
    "kmeans.cluster_centers_"
   ]
  },
  {
   "cell_type": "code",
   "execution_count": 3,
   "metadata": {},
   "outputs": [
    {
     "data": {
      "text/plain": [
       "array([1, 0], dtype=int32)"
      ]
     },
     "execution_count": 3,
     "metadata": {},
     "output_type": "execute_result"
    }
   ],
   "source": [
    "kmeans.predict([[0, 0], [12, 3]])"
   ]
  },
  {
   "cell_type": "code",
   "execution_count": 4,
   "metadata": {},
   "outputs": [
    {
     "data": {
      "text/plain": [
       "KMeans(init=array([[-3,  3],\n",
       "       [-3,  2],\n",
       "       [-3,  1],\n",
       "       [-1,  2],\n",
       "       [ 0,  2]]),\n",
       "       n_clusters=5, n_init=1)"
      ]
     },
     "execution_count": 4,
     "metadata": {},
     "output_type": "execute_result"
    }
   ],
   "source": [
    "# If you happen to kown approximately where the centroids should be,\n",
    "# set `good_init` to these centroids.\n",
    "good_init = np.array([[-3, 3], [-3, 2], [-3, 1], [-1, 2], [0, 2]])\n",
    "\n",
    "# n_init: The number of random initializations default 10.\n",
    "KMeans(n_clusters=5, init=good_init, n_init=1)"
   ]
  },
  {
   "cell_type": "markdown",
   "metadata": {},
   "source": [
    "## Selecting the Number of Clusters"
   ]
  },
  {
   "cell_type": "code",
   "execution_count": 5,
   "metadata": {},
   "outputs": [
    {
     "data": {
      "text/plain": [
       "16.0"
      ]
     },
     "execution_count": 5,
     "metadata": {},
     "output_type": "execute_result"
    }
   ],
   "source": [
    "\"\"\"\n",
    "sklearn uses inertia to choose from 'n_init' models.\n",
    "which is the mean squared distance between each instance and its closest centroid.\n",
    "\"\"\"\n",
    "# select k that is the elbow\n",
    "kmeans.inertia_"
   ]
  },
  {
   "cell_type": "markdown",
   "metadata": {},
   "source": [
    "Another more precise metric is called sihouette score, which is equal to:\n",
    "\n",
    "$$\\frac{b - a}{max(a, b)}$$\n",
    "\n",
    "where a is the mean distance to the other instances in the same cluster.\n",
    "\n",
    "b is the the mean distance to the instances of the next closest cluster, excluding the instance's own cluster."
   ]
  },
  {
   "cell_type": "code",
   "execution_count": 6,
   "metadata": {},
   "outputs": [
    {
     "data": {
      "text/plain": [
       "0.7133477791749615"
      ]
     },
     "execution_count": 6,
     "metadata": {},
     "output_type": "execute_result"
    }
   ],
   "source": [
    "from sklearn.metrics import silhouette_score\n",
    "\n",
    "# select k that maximize silhouette\n",
    "silhouette_score(X, kmeans.labels_)"
   ]
  },
  {
   "cell_type": "markdown",
   "metadata": {},
   "source": [
    "## Minibatch K-Means"
   ]
  },
  {
   "cell_type": "code",
   "execution_count": 7,
   "metadata": {},
   "outputs": [
    {
     "data": {
      "text/plain": [
       "MiniBatchKMeans(n_clusters=5)"
      ]
     },
     "execution_count": 7,
     "metadata": {},
     "output_type": "execute_result"
    }
   ],
   "source": [
    "\"\"\"\n",
    "minibatch k-means is capable of using mini-batches,\n",
    "moving the centroids just slightly at each iteration,\n",
    "this speed up cluster & enable clustering huge datasets.\n",
    "\"\"\"\n",
    "from sklearn.cluster import MiniBatchKMeans\n",
    "\n",
    "minibatch_kmeans = MiniBatchKMeans(n_clusters=5)\n",
    "minibatch_kmeans.fit(X)"
   ]
  }
 ],
 "metadata": {
  "kernelspec": {
   "display_name": "Python 3",
   "language": "python",
   "name": "python3"
  },
  "language_info": {
   "codemirror_mode": {
    "name": "ipython",
    "version": 3
   },
   "file_extension": ".py",
   "mimetype": "text/x-python",
   "name": "python",
   "nbconvert_exporter": "python",
   "pygments_lexer": "ipython3",
   "version": "3.8.3"
  }
 },
 "nbformat": 4,
 "nbformat_minor": 4
}
