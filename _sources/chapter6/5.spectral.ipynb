{
 "cells": [
  {
   "cell_type": "markdown",
   "id": "fdf59bde-24bf-4494-9484-2e0ad47af3f8",
   "metadata": {},
   "source": [
    "# Spectral Clustering\n",
    "\n",
    "```{note}\n",
    "Spectral Clustering takes a similarity matrix between the instances and create a low dimensional embedding from it (i.e. it reduces its dimensionality), then it uses another clustering algorithm in the low-dimensional space (e.g. K-means). Spectral clustering can capture comlplex cluster structure, and it also be used to cut graphs.\n",
    "```"
   ]
  },
  {
   "cell_type": "markdown",
   "id": "b6102bad-5fb1-41e2-91ce-ef2551760f13",
   "metadata": {},
   "source": [
    "## 使用方法"
   ]
  },
  {
   "cell_type": "code",
   "execution_count": 1,
   "id": "1f2db6fe-ed06-422e-9184-3e78005f2d98",
   "metadata": {},
   "outputs": [],
   "source": [
    "import numpy as np\n",
    "\n",
    "# (n_samples, n_features)\n",
    "X = np.array([[1, 1], [2, 1], [1, 0],\n",
    "              [4, 7], [3, 5], [3, 6]])"
   ]
  },
  {
   "cell_type": "code",
   "execution_count": 2,
   "id": "2324367f-1fd3-41bf-ac39-6f9b19a014f2",
   "metadata": {},
   "outputs": [
    {
     "data": {
      "text/plain": [
       "array([1, 1, 1, 0, 0, 0])"
      ]
     },
     "execution_count": 2,
     "metadata": {},
     "output_type": "execute_result"
    }
   ],
   "source": [
    "from sklearn.cluster import SpectralClustering\n",
    "\n",
    "clustering = SpectralClustering(n_clusters=2,\n",
    "        assign_labels='discretize',\n",
    "        random_state=0).fit(X)\n",
    "clustering.labels_"
   ]
  }
 ],
 "metadata": {
  "kernelspec": {
   "display_name": "Python 3",
   "language": "python",
   "name": "python3"
  },
  "language_info": {
   "codemirror_mode": {
    "name": "ipython",
    "version": 3
   },
   "file_extension": ".py",
   "mimetype": "text/x-python",
   "name": "python",
   "nbconvert_exporter": "python",
   "pygments_lexer": "ipython3",
   "version": "3.8.3"
  }
 },
 "nbformat": 4,
 "nbformat_minor": 5
}
