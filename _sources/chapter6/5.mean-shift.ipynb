{
 "cells": [
  {
   "cell_type": "markdown",
   "id": "ded08578-c9ab-49bc-8f03-9a24d4995d55",
   "metadata": {},
   "source": [
    "# Mean Shift\n",
    "\n",
    "```{note}\n",
    "Mean shift 是 shift to the mean 的意思。\n",
    "```\n",
    "\n",
    "参考资料：<https://towardsdatascience.com/understanding-mean-shift-clustering-and-implementation-with-python-6d5809a2ac40>"
   ]
  },
  {
   "cell_type": "markdown",
   "id": "0fa79d7d-9e8b-49bc-bd73-bc32901d3f89",
   "metadata": {
    "tags": []
   },
   "source": [
    "## 思路\n",
    "\n",
    "一般来说，聚类中心周围的点都是很密集的，越靠近聚类中心点越密集。\n",
    "\n",
    "我们如何利用这个特性让点逐渐漂移到聚类中心从而完成聚类呢？我们只要让点往密集的地方漂移就好了！可以以这个点为中心画一个圈作为邻域，计算邻域内所有点的均值，均值会偏向点密度更高的地方，如下图所示：\n",
    "\n",
    "```{image} ../images/meanshift1.png\n",
    ":alt: meanshift1\n",
    ":class: bg-primary mb-1\n",
    ":width: 500px\n",
    ":align: center\n",
    "```\n",
    "\n",
    "就这样，每个点一步接一步地漂向聚类中心周围，漂向同一个地方的点被认为是在同一个聚类：\n",
    "\n",
    "```{image} ../images/meanshift2.png\n",
    ":alt: meanshift2\n",
    ":class: bg-primary mb-1\n",
    ":width: 500px\n",
    ":align: center\n",
    "```\n",
    "\n",
    "Mean shift 唯一的参数就是圈的直径的大小，即 bandwidth，它越大簇越少，它越小簇越多。"
   ]
  },
  {
   "cell_type": "markdown",
   "id": "c8481059-cc86-4e82-9cd8-46d7a9801e54",
   "metadata": {},
   "source": [
    "## 使用方法"
   ]
  },
  {
   "cell_type": "code",
   "execution_count": 1,
   "id": "b169e506-18c7-4515-a7b7-1d098af175cc",
   "metadata": {},
   "outputs": [],
   "source": [
    "import numpy as np\n",
    "\n",
    "# (n_samples, n_features)\n",
    "X = np.array([[1, 1], [2, 1], [1, 0],\n",
    "              [4, 7], [3, 5], [3, 6]])"
   ]
  },
  {
   "cell_type": "code",
   "execution_count": 2,
   "id": "e7b61021-94cd-4d22-a310-d48ffc4d65aa",
   "metadata": {},
   "outputs": [
    {
     "data": {
      "text/plain": [
       "array([1, 1, 1, 0, 0, 0])"
      ]
     },
     "execution_count": 2,
     "metadata": {},
     "output_type": "execute_result"
    }
   ],
   "source": [
    "from sklearn.cluster import MeanShift\n",
    "\n",
    "# 需指定 bandwidth\n",
    "clustering = MeanShift(bandwidth=2).fit(X)\n",
    "clustering.labels_"
   ]
  },
  {
   "cell_type": "code",
   "execution_count": 3,
   "id": "c0810e84-9245-43de-86c8-4b57e8a3e68b",
   "metadata": {},
   "outputs": [
    {
     "data": {
      "text/plain": [
       "array([1, 0])"
      ]
     },
     "execution_count": 3,
     "metadata": {},
     "output_type": "execute_result"
    }
   ],
   "source": [
    "clustering.predict([[0, 0], [5, 5]])"
   ]
  }
 ],
 "metadata": {
  "kernelspec": {
   "display_name": "Python 3",
   "language": "python",
   "name": "python3"
  },
  "language_info": {
   "codemirror_mode": {
    "name": "ipython",
    "version": 3
   },
   "file_extension": ".py",
   "mimetype": "text/x-python",
   "name": "python",
   "nbconvert_exporter": "python",
   "pygments_lexer": "ipython3",
   "version": "3.8.3"
  }
 },
 "nbformat": 4,
 "nbformat_minor": 5
}
