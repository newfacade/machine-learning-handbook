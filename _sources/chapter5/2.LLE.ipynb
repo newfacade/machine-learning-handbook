{
 "cells": [
  {
   "cell_type": "markdown",
   "metadata": {},
   "source": [
    "# LLE\n",
    "\n",
    "```{note}\n",
    "Locally Linear Embedding(LLE) is a powerful nonlinear dimensionality reduction & manifold learning technique that does not rely on projections.\n",
    "```"
   ]
  },
  {
   "cell_type": "markdown",
   "metadata": {},
   "source": [
    "## Algorithm\n",
    "\n",
    "1.Measuring how each training instance linearly relates to its closest neighbors(c.n):\n",
    "\n",
    "$$\n",
    "\\hat{\\mathbf{W}} = \\underset{\\mathbf{W}}{\\mbox{argmin}}\\sum_{i=1}^{n}(\\mathbf{x}^{(i)} - \\sum_{j\\neq{i}}w_{ij}\\mathbf{x}^{(j)})\n",
    "$$\n",
    "\n",
    "where $w_{ij} = 0$ if $\\mathbf{x}^{(j)}$ is not one of the $k$ c.n of $\\mathbf{x}^{(i)}$ and $\\sum_{j\\neq{i}}w_{ij}=1$.\n",
    "\n",
    "2.Looking for a low-dimensional representation of the training set where these local relationships are best preserved, keeping the weights fixed and finding the optimal positions:\n",
    "\n",
    "$$\n",
    "\\hat{\\mathbf{Z}} = \\underset{\\mathbf{Z}}{\\mbox{argmin}}\\sum_{i=1}^{n}(\\mathbf{z}^{(i)} - \\sum_{j\\neq{i}}w_{ij}\\mathbf{z}^{(j)})\n",
    "$$\n",
    "\n",
    "where $\\sum_{i=1}^{n}\\mathbf{z}^{(i)} = 0$ and $\\frac{1}{n}\\sum_{i=1}^{n}\\mathbf{z}^{(i)}(\\mathbf{z}^{(i)})^{T} = \\mathbf{I}$."
   ]
  },
  {
   "cell_type": "markdown",
   "metadata": {},
   "source": [
    "## Examples"
   ]
  },
  {
   "cell_type": "code",
   "execution_count": 1,
   "metadata": {},
   "outputs": [
    {
     "data": {
      "text/plain": [
       "(1000, 3)"
      ]
     },
     "execution_count": 1,
     "metadata": {},
     "output_type": "execute_result"
    }
   ],
   "source": [
    "from sklearn.datasets import make_swiss_roll\n",
    "\n",
    "# 3d swiss roll\n",
    "X, t = make_swiss_roll(n_samples=1000, noise=0.2, random_state=42)\n",
    "X.shape"
   ]
  },
  {
   "cell_type": "code",
   "execution_count": 2,
   "metadata": {},
   "outputs": [],
   "source": [
    "from sklearn.manifold import LocallyLinearEmbedding\n",
    "\n",
    "# n_compnents & n_neighbors need to be specified.\n",
    "lle = LocallyLinearEmbedding(n_components=2, n_neighbors=10)\n",
    "X_reduced = lle.fit_transform(X)"
   ]
  }
 ],
 "metadata": {
  "kernelspec": {
   "display_name": "Python 3",
   "language": "python",
   "name": "python3"
  },
  "language_info": {
   "codemirror_mode": {
    "name": "ipython",
    "version": 3
   },
   "file_extension": ".py",
   "mimetype": "text/x-python",
   "name": "python",
   "nbconvert_exporter": "python",
   "pygments_lexer": "ipython3",
   "version": "3.8.3"
  }
 },
 "nbformat": 4,
 "nbformat_minor": 4
}
