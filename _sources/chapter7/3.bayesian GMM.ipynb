{
 "cells": [
  {
   "cell_type": "markdown",
   "metadata": {},
   "source": [
    "# Bayesian Gaussian Mixture\n",
    "\n",
    "```{note}\n",
    "In BayesianGaussianMixture, cluster parameters are treated as random variables instead of fixed numbers.\n",
    "\n",
    "Latent variables $\\mathbf{z}$ now includes both the cluster parameters and the cluster assignments.\n",
    "```"
   ]
  },
  {
   "cell_type": "markdown",
   "metadata": {},
   "source": [
    "## Examples"
   ]
  },
  {
   "cell_type": "code",
   "execution_count": 1,
   "metadata": {},
   "outputs": [
    {
     "data": {
      "image/png": "[encoded data removed]",
      "text/plain": [
       "<Figure size 432x288 with 1 Axes>"
      ]
     },
     "metadata": {
      "needs_background": "light"
     },
     "output_type": "display_data"
    }
   ],
   "source": [
    "\"\"\"\n",
    "manual dataset\n",
    "\"\"\"\n",
    "import numpy as np\n",
    "import matplotlib.pyplot as plt\n",
    "\n",
    "X = np.vstack((np.random.multivariate_normal([0, 0], [[2, 0], [0, 1]], 30), \n",
    "               np.random.multivariate_normal([4, 5], [[1, 0], [0, 1]], 30)))\n",
    "np.random.shuffle(X)\n",
    "\n",
    "plt.scatter(X[:, 0], X[:, 1])\n",
    "plt.show()"
   ]
  },
  {
   "cell_type": "code",
   "execution_count": 2,
   "metadata": {},
   "outputs": [
    {
     "data": {
      "text/plain": [
       "array([0.51, 0.49, 0.  , 0.  , 0.  , 0.  , 0.  , 0.  , 0.  , 0.  ])"
      ]
     },
     "execution_count": 2,
     "metadata": {},
     "output_type": "execute_result"
    }
   ],
   "source": [
    "from sklearn.mixture import BayesianGaussianMixture\n",
    "\n",
    "# set n_components large enough\n",
    "# set weight_concentration_prior small because we have a prior belief there are few clusters\n",
    "bgm = BayesianGaussianMixture(n_components=10, n_init=10, weight_concentration_prior=0.01)\n",
    "bgm.fit(X)\n",
    "\n",
    "# give 0 weights to unnessary clusters\n",
    "np.round(bgm.weights_, 2)"
   ]
  },
  {
   "cell_type": "code",
   "execution_count": 3,
   "metadata": {},
   "outputs": [
    {
     "data": {
      "text/plain": [
       "array([0, 1])"
      ]
     },
     "execution_count": 3,
     "metadata": {},
     "output_type": "execute_result"
    }
   ],
   "source": [
    "X_predict = np.array([[2, 2], [4, 3]])\n",
    "bgm.predict(X_predict)"
   ]
  },
  {
   "cell_type": "markdown",
   "metadata": {},
   "source": [
    "## Variational Inference\n",
    "\n",
    "Bayes' theorem:\n",
    "\n",
    "$$p(\\mathbf{z}|\\mathbf{X}) = \\mbox{posterior} = \\frac{\\mbox{likelihood}\\times\\mbox{prior}}{\\mbox{evidence}} = \\frac{p(\\mathbf{X}|\\mathbf{z})p(\\mathbf{z})}{p(\\mathbf{X})}$$\n",
    "\n",
    "Unfortunately, the evidence $p(\\mathbf{X})$ is often intractable:\n",
    "\n",
    "$$p(\\mathbf{X}) = \\int{p(\\mathbf{X}|\\mathbf{z})p(\\mathbf{z})}d{\\mathbf{z}}$$\n",
    "\n",
    "variational inference solves this intractability by picking a family of distribution $q(\\mathbf{z};\\boldsymbol{\\lambda})$.\n",
    "\n",
    "Then optimize $\\boldsymbol{\\lambda}$ to make $q(\\mathbf{z})$ a good approximation of $p(\\mathbf{z}|\\mathbf{X})$.\n",
    "\n",
    "This is achieved by finding the value of $\\boldsymbol{\\lambda}$ that minimizes the KL divergence from $q(\\mathbf{z})$ to\n",
    "$p(\\mathbf{z}|\\mathbf{X})$, noted $D_{KL}(q‖p)$.\n",
    "\n",
    "$$\n",
    "\\begin{equation}\n",
    "\\begin{split}\n",
    "D_{KL}(q‖p) =& \\mathbb{E}_{q}\\left[\\log\\frac{q(\\mathbf{z})}{p(\\mathbf{z}|\\mathbf{X})}\\right]\\\\\n",
    "=& \\mathbb{E}_{q}\\left[\\log{q(\\mathbf{z})} - \\log{p(\\mathbf{z}, \\mathbf{X})} + \\log{p(\\mathbf{X})}\\right]\\\\\n",
    "=& \\log{p(\\mathbf{X})} - \\mbox{ELBO}(\\mathbf{X};q)\n",
    "\\end{split}\n",
    "\\end{equation}\n",
    "$$\n",
    "\n",
    "Minimizing the KL divergence just requires maximizing the ELBO.\n",
    "\n",
    "In practice, there are different techniques to maximize the ELBO. \n",
    "\n",
    "E.g *mean field variational inference* and *black box stochastic variational inference(BBSVI)*."
   ]
  }
 ],
 "metadata": {
  "kernelspec": {
   "display_name": "Python 3",
   "language": "python",
   "name": "python3"
  },
  "language_info": {
   "codemirror_mode": {
    "name": "ipython",
    "version": 3
   },
   "file_extension": ".py",
   "mimetype": "text/x-python",
   "name": "python",
   "nbconvert_exporter": "python",
   "pygments_lexer": "ipython3",
   "version": "3.8.3"
  }
 },
 "nbformat": 4,
 "nbformat_minor": 4
}
