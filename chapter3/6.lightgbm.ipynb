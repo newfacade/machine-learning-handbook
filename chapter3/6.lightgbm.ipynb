{
 "cells": [
  {
   "cell_type": "markdown",
   "metadata": {},
   "source": [
    "# LightGBM\n",
    "\n",
    "LightGBM is a highly efficient gradient boosting decision tree.\n",
    "\n",
    "XGboost uses pre-sort to find the best split, it's complexity is approximately:\n",
    "\n",
    "$$\\mbox{Complexity} = \\mbox{num_features} * \\mbox{num_split_per_feature} * \\mbox{num_samples}$$\n",
    "\n",
    "LightGBM optimize all these three factors."
   ]
  },
  {
   "cell_type": "markdown",
   "metadata": {},
   "source": [
    "## Histogram\n",
    "\n",
    "Instead of finding the split points on the sorted feature values, histogram-based algorithm buckets continuous feature values into discrete bins and uses these bins to construct feature histograms during training.\n",
    "\n",
    "Histogram reduces $\\mbox{num_split_per_feature}$.\n",
    "\n",
    "In computing one node's histogram, we have the diff trick:\n",
    "\n",
    "$$\\mbox{Histogram} = \\mbox{Histogram of it's father} - \\mbox{Histogram of it's brother}$$"
   ]
  },
  {
   "cell_type": "markdown",
   "metadata": {},
   "source": [
    "## GOSS\n",
    "\n",
    "GOSS stands for Gradient-based One-Side Sampling.\n",
    "\n",
    "GOSS keeps all the instances with large gradients and performs random sampling on the instances with small gradients.\n",
    "\n",
    "Specifically, GOSS firstly sorts the data instances according to the absolute value of their gradients and selects the top $a\\times{100\\%}$ instances. \n",
    "\n",
    "Then it randomly samples $b\\times{100\\%}$ instances from\n",
    "the rest of the data, after that amplifiy these data by a constant $\\frac{1 - a}{b}$.\n",
    "\n",
    "GOSS reduces $\\mbox{num_samples}$."
   ]
  },
  {
   "cell_type": "markdown",
   "metadata": {},
   "source": [
    "## EFB\n",
    "\n",
    "EFB stands for Exclusive Feature Bundling.\n",
    "\n",
    "In a sparse feature space, many features are matually exclusive, i.e., they never take nonzero value simultaneously, We can safely bundle exclusive features into a single feature\n",
    "\n",
    "To determine which features should be bundled together:\n",
    "\n",
    "1. Reduce the optimal bundling problem to the graph coloring problem by taking features as vertices and adding edges for every two features if they are not mutually exclusive.\n",
    "\n",
    "2. Use a greedy algorithm which can produce reasonably good results.\n",
    "\n",
    "To construct the buddle, we can add offsets to the original values of the features to make sure the bundle is invertible. For example, suppose we have two features, feature A takes value from $\\left[0, 10\\right)$ and feature B takes value $\\left[0, 20\\right)$. We then add an offset of 10 to the values of feature B so that the refined feature takes values from $\\left[0, 30\\right)$.\n",
    "\n",
    "EFB reduces $\\mbox{num_features}$."
   ]
  },
  {
   "cell_type": "markdown",
   "metadata": {},
   "source": [
    "## Leaf-Wise\n",
    "\n",
    "XGBoost uses level-wise tree growth, while LightGBM uses leaf-wise tree growth."
   ]
  },
  {
   "cell_type": "markdown",
   "metadata": {},
   "source": [
    "## Examples"
   ]
  },
  {
   "cell_type": "code",
   "execution_count": 1,
   "metadata": {},
   "outputs": [],
   "source": [
    "from sklearn.datasets import load_iris\n",
    "from sklearn.model_selection import train_test_split\n",
    "\n",
    "iris = load_iris()\n",
    "X_train, X_test, y_train, y_test =train_test_split(iris.data, iris.target, test_size=0.2)"
   ]
  },
  {
   "cell_type": "code",
   "execution_count": 2,
   "metadata": {},
   "outputs": [
    {
     "name": "stdout",
     "output_type": "stream",
     "text": [
      "[1]\tvalid_0's l2: 0.680646\n",
      "Training until validation scores don't improve for 10 rounds\n",
      "[2]\tvalid_0's l2: 0.623751\n",
      "[3]\tvalid_0's l2: 0.572918\n",
      "[4]\tvalid_0's l2: 0.526781\n",
      "[5]\tvalid_0's l2: 0.485581\n",
      "[6]\tvalid_0's l2: 0.448184\n",
      "[7]\tvalid_0's l2: 0.414807\n",
      "[8]\tvalid_0's l2: 0.384515\n",
      "[9]\tvalid_0's l2: 0.357492\n",
      "[10]\tvalid_0's l2: 0.33297\n",
      "[11]\tvalid_0's l2: 0.311105\n",
      "[12]\tvalid_0's l2: 0.29222\n",
      "[13]\tvalid_0's l2: 0.275212\n",
      "[14]\tvalid_0's l2: 0.259897\n",
      "[15]\tvalid_0's l2: 0.246108\n",
      "[16]\tvalid_0's l2: 0.233694\n",
      "[17]\tvalid_0's l2: 0.222521\n",
      "[18]\tvalid_0's l2: 0.212465\n",
      "[19]\tvalid_0's l2: 0.202953\n",
      "[20]\tvalid_0's l2: 0.194433\n",
      "Did not meet early stopping. Best iteration is:\n",
      "[20]\tvalid_0's l2: 0.194433\n"
     ]
    },
    {
     "data": {
      "text/plain": [
       "LGBMRegressor(learning_rate=0.05, n_estimators=20, num_leaves=25,\n",
       "              objective='regression')"
      ]
     },
     "execution_count": 2,
     "metadata": {},
     "output_type": "execute_result"
    }
   ],
   "source": [
    "import lightgbm as lgb\n",
    "\n",
    "gbm = lgb.LGBMRegressor(objective=\"regression\",\n",
    "                        num_leaves=25,\n",
    "                        learning_rate=0.05,\n",
    "                        n_estimators=20)\n",
    "\n",
    "gbm.fit(X_train, y_train, \n",
    "        eval_set=[(X_test, y_test)], \n",
    "        eval_metric='l2', \n",
    "        early_stopping_rounds=10)"
   ]
  },
  {
   "cell_type": "code",
   "execution_count": 3,
   "metadata": {},
   "outputs": [
    {
     "data": {
      "text/plain": [
       "0.19443314290792704"
      ]
     },
     "execution_count": 3,
     "metadata": {},
     "output_type": "execute_result"
    }
   ],
   "source": [
    "from sklearn.metrics import mean_squared_error\n",
    "\n",
    "y_pred = gbm.predict(X_test, num_iteration=gbm.best_iteration_)\n",
    "mean_squared_error(y_test, y_pred)"
   ]
  }
 ],
 "metadata": {
  "kernelspec": {
   "display_name": "Python 3",
   "language": "python",
   "name": "python3"
  },
  "language_info": {
   "codemirror_mode": {
    "name": "ipython",
    "version": 3
   },
   "file_extension": ".py",
   "mimetype": "text/x-python",
   "name": "python",
   "nbconvert_exporter": "python",
   "pygments_lexer": "ipython3",
   "version": "3.8.3"
  }
 },
 "nbformat": 4,
 "nbformat_minor": 4
}
