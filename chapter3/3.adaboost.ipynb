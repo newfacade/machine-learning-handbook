{
 "cells": [
  {
   "cell_type": "markdown",
   "metadata": {},
   "source": [
    "# AdaBoost\n",
    "\n",
    "Given a dataset $\\left\\{(x_{1}, y_{1}),...,({x_{N},y_{N}})\\right\\}$ where $y_{i} \\in \\left\\{-1, 1\\right\\}$.\n",
    "\n",
    "Initial sample distribution $D_{1} = (\\frac{1}{N},...,\\frac{1}{N}) = (w_{1,1},...,w_{1,N})$\n",
    "\n",
    "AdaBoost train $G_{m}$ on $D_{m}$, it's misclassification error is $e_{m}$, update rule:\n",
    "\n",
    "$$\n",
    "\\begin{equation}\n",
    "w_{m+1, i} =\n",
    "\\begin{cases}\n",
    "\\frac{w_{m,i}}{Z_{m}}& \\text{correct classified}\\\\\n",
    "{\\frac{1 - e_{m}}{e_{m}}}\\frac{w_{m,i}}{Z_{m}}& \\text{misclassified}\n",
    "\\end{cases}\n",
    "\\end{equation}\n",
    "$$\n",
    "\n",
    "where $Z_{m}$ is to make $D_{m+1}$ a valid distribution.\n",
    "\n",
    "Finally:\n",
    "\n",
    "$$f(x) = \\sum_{m=1}^{M}\\log\\frac{1 - e_{m}}{e_{m}}G_{m}(x)$$"
   ]
  },
  {
   "cell_type": "code",
   "execution_count": 1,
   "metadata": {},
   "outputs": [],
   "source": [
    "from sklearn.datasets import make_moons\n",
    "from sklearn.model_selection import train_test_split\n",
    "\n",
    "X, y = make_moons(n_samples=500, noise=0.30, random_state=42)\n",
    "X_train, X_test, y_train, y_test = train_test_split(X, y, random_state=42)"
   ]
  },
  {
   "cell_type": "code",
   "execution_count": 2,
   "metadata": {},
   "outputs": [
    {
     "data": {
      "text/plain": [
       "AdaBoostClassifier(base_estimator=DecisionTreeClassifier(max_depth=1),\n",
       "                   learning_rate=0.5, n_estimators=100)"
      ]
     },
     "execution_count": 2,
     "metadata": {},
     "output_type": "execute_result"
    }
   ],
   "source": [
    "from sklearn.tree import DecisionTreeClassifier\n",
    "from sklearn.ensemble import AdaBoostClassifier\n",
    "\n",
    "ada_clf = AdaBoostClassifier(DecisionTreeClassifier(max_depth=1), \n",
    "                             n_estimators=100, \n",
    "                             # SAMME is a multiclass version of AdaBoost\n",
    "                             # use SAMME.R if predictor can estimate class probability\n",
    "                             algorithm=\"SAMME.R\",\n",
    "                             # learning_date grows with n_estimator\n",
    "                             learning_rate=0.5)\n",
    "ada_clf.fit(X_train, y_train)"
   ]
  },
  {
   "cell_type": "code",
   "execution_count": 3,
   "metadata": {},
   "outputs": [
    {
     "data": {
      "text/plain": [
       "(0.912, 0.9732325819672131)"
      ]
     },
     "execution_count": 3,
     "metadata": {},
     "output_type": "execute_result"
    }
   ],
   "source": [
    "from sklearn.metrics import accuracy_score, roc_auc_score\n",
    "\n",
    "y_pred = ada_clf.predict(X_test)\n",
    "y_prob = ada_clf.predict_proba(X_test)\n",
    "\n",
    "accuracy_score(y_test, y_pred), roc_auc_score(y_test, y_prob[:, 1])"
   ]
  },
  {
   "cell_type": "markdown",
   "metadata": {},
   "source": [
    "## Boosting Tree\n",
    "\n",
    "Boosting Tree model:\n",
    "\n",
    "$$f(x) = \\sum_{m=1}^{M}T(x; \\theta_{m})$$\n",
    "\n",
    "For binary classification, loss function ($\\Leftrightarrow$ AdaBoost + DecisionTreeClassifier):\n",
    "\n",
    "$$L(y, f(x)) = \\exp(-yf(x))$$\n",
    "\n",
    "For regression problem, loss function:\n",
    "\n",
    "$$L(y, f(x)) = (y - f(x))^2$$\n",
    "\n",
    "By forward stagewise algorithm:\n",
    "\n",
    "$$\\hat\\theta_{m} = \\underset{\\theta_{m}}{argmin}\\sum_{i=1}^{N}L(y_{i}; f_{m-1}(x_{i}) + T(x_{i};\\theta_{m}))$$\n",
    "\n",
    "$$L(y_{i}; f_{m-1}(x_{i}) + T(x_{i};\\theta_{m})) = [y_{i} - f_{m-1}(x_{i}) - T(x_{i};\\theta_{m})]^{2} = [r_{i} - T(x_{i};\\theta_{m})]^{2}$$\n",
    "\n",
    "So we just need to fit the residual.\n"
   ]
  }
 ],
 "metadata": {
  "kernelspec": {
   "display_name": "Python 3",
   "language": "python",
   "name": "python3"
  },
  "language_info": {
   "codemirror_mode": {
    "name": "ipython",
    "version": 3
   },
   "file_extension": ".py",
   "mimetype": "text/x-python",
   "name": "python",
   "nbconvert_exporter": "python",
   "pygments_lexer": "ipython3",
   "version": "3.8.3"
  }
 },
 "nbformat": 4,
 "nbformat_minor": 4
}
